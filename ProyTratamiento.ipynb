{
 "cells": [
  {
   "cell_type": "code",
   "execution_count": null,
   "id": "d90f5341",
   "metadata": {},
   "outputs": [],
   "source": [
    "import pandas as pd\n",
    "import numpy as np\n",
    "import seaborn as sns\n",
    "import matplotlib.pyplot as plt\n",
    "from warnings import filterwarnings\n",
    "from mpl_toolkits.mplot3d import Axes3D\n",
    "import statsmodels.api as sm\n",
    "import missingno as msno\n",
    "from sklearn.decomposition import PCA\n",
    "from sklearn.preprocessing import scale\n",
    "from sklearn.neighbors import LocalOutlierFactor\n",
    "from scipy.stats import levene\n",
    "from scipy.stats import shapiro\n",
    "#from scipy.stats.stats import pearsonr\n",
    "from sklearn.preprocessing import LabelEncoder\n",
    "from sklearn.model_selection import train_test_split, cross_val_score, cross_val_predict\n",
    "from sklearn.preprocessing import scale\n",
    "from sklearn.model_selection import ShuffleSplit, GridSearchCV\n",
    "from sklearn.metrics import mean_squared_error, r2_score\n",
    "from sklearn import model_selection\n",
    "from sklearn.tree import DecisionTreeClassifier, DecisionTreeRegressor\n",
    "from sklearn.neighbors import KNeighborsRegressor\n",
    "from sklearn.neighbors import KNeighborsClassifier\n",
    "from sklearn.ensemble import BaggingRegressor\n",
    "from sklearn.svm import SVR\n",
    "from sklearn.preprocessing import StandardScaler\n",
    "from sklearn.preprocessing import MinMaxScaler\n",
    "from sklearn.neural_network import MLPRegressor\n",
    "from sklearn.neural_network import MLPClassifier\n",
    "from sklearn.linear_model import LinearRegression\n",
    "from sklearn.cross_decomposition import PLSRegression\n",
    "from sklearn.linear_model import Ridge\n",
    "from sklearn.linear_model import RidgeCV\n",
    "from sklearn.linear_model import Lasso\n",
    "from sklearn.linear_model import LassoCV\n",
    "from sklearn.linear_model import ElasticNet\n",
    "from sklearn.linear_model import ElasticNetCV\n",
    "from sklearn import linear_model\n",
    "from sklearn.ensemble import RandomForestRegressor, RandomForestClassifier\n",
    "from sklearn.ensemble import GradientBoostingRegressor, GradientBoostingClassifier\n",
    "import xgboost as xgb\n",
    "from xgboost import XGBRegressor, XGBClassifier\n",
    "#from lightgbm import LGBMRegressor, LGBMClassifier\n",
    "#from catboost import CatBoostRegressor, CatBoostClassifier\n",
    "from sklearn.linear_model import LogisticRegression\n",
    "from sklearn.naive_bayes import GaussianNB\n",
    "from sklearn.svm import SVC\n",
    "from sklearn import tree\n",
    "from sklearn.discriminant_analysis import LinearDiscriminantAnalysis\n",
    "from sklearn.metrics import confusion_matrix, accuracy_score, classification_report, roc_auc_score, roc_curve\n",
    "from tensorflow.keras.models import Sequential\n",
    "from keras.layers import Dense, Dropout, Flatten, Conv2D, MaxPool2D, BatchNormalization, MaxPooling2D\n",
    "from keras import models\n",
    "from keras import layers\n",
    "import tensorflow as tf\n",
    "import os\n",
    "import os.path\n",
    "from pathlib import Path\n",
    "#import cv2\n",
    "from tensorflow.keras.preprocessing.image import ImageDataGenerator\n",
    "from keras.utils.np_utils import to_categorical"
   ]
  },
  {
   "cell_type": "code",
   "execution_count": null,
   "id": "e3637df0",
   "metadata": {},
   "outputs": [],
   "source": [
    "print(\"RUTA de IMAGENeS\")\n",
    "\n",
    "filterwarnings(\"ignore\", category=DeprecationWarning) \n",
    "filterwarnings(\"ignore\", category=FutureWarning) \n",
    "filterwarnings(\"ignore\", category=UserWarning)"
   ]
  },
  {
   "cell_type": "code",
   "execution_count": null,
   "id": "2caa53b5",
   "metadata": {},
   "outputs": [],
   "source": [
    "Meat_Data_Data = Path(\"C:/Users/David/Documents/PROYECTO/CarneDataset/train/CLASS_02\")\n",
    "# main path"
   ]
  },
  {
   "cell_type": "code",
   "execution_count": null,
   "id": "8b25aa3b",
   "metadata": {},
   "outputs": [],
   "source": [
    "JPG_Path = list(Meat_Data_Data.glob(r\"*/*.jpg\"))\n",
    "# jpg path"
   ]
  },
  {
   "cell_type": "code",
   "execution_count": null,
   "id": "a002cffb",
   "metadata": {},
   "outputs": [],
   "source": [
    "print(JPG_Path[0:5])"
   ]
  },
  {
   "cell_type": "code",
   "execution_count": null,
   "id": "a11614bb",
   "metadata": {},
   "outputs": [],
   "source": [
    "Labels = list(map(lambda x: os.path.split(os.path.split(x)[0])[1],JPG_Path))\n",
    "# splitting fresh and spoiled"
   ]
  },
  {
   "cell_type": "code",
   "execution_count": null,
   "id": "2ed57129",
   "metadata": {},
   "outputs": [],
   "source": [
    "print(Labels.count(\"Fresh\"))"
   ]
  },
  {
   "cell_type": "code",
   "execution_count": null,
   "id": "e7c82b39",
   "metadata": {},
   "outputs": [],
   "source": [
    "print(Labels.count(\"Spoiled\"))"
   ]
  },
  {
   "cell_type": "code",
   "execution_count": null,
   "id": "55411de7",
   "metadata": {},
   "outputs": [],
   "source": [
    "File_Path = pd.Series(JPG_Path, name=\"JPG\").astype(str)"
   ]
  },
  {
   "cell_type": "code",
   "execution_count": null,
   "id": "aab3f14e",
   "metadata": {},
   "outputs": [],
   "source": [
    "print(File_Path.head())"
   ]
  },
  {
   "cell_type": "code",
   "execution_count": null,
   "id": "3da66381",
   "metadata": {},
   "outputs": [],
   "source": [
    "Label_Name = pd.Series(Labels, name=\"CATEGORY\")"
   ]
  },
  {
   "cell_type": "code",
   "execution_count": null,
   "id": "400ff4f4",
   "metadata": {},
   "outputs": [],
   "source": [
    "print(Label_Name.head())"
   ]
  },
  {
   "cell_type": "code",
   "execution_count": null,
   "id": "474ce479",
   "metadata": {},
   "outputs": [],
   "source": [
    "print(Label_Name.value_counts())"
   ]
  },
  {
   "cell_type": "code",
   "execution_count": null,
   "id": "4b4bdcb8",
   "metadata": {},
   "outputs": [],
   "source": [
    "Main_Data = pd.concat([File_Path, Label_Name], axis=1)"
   ]
  },
  {
   "cell_type": "code",
   "execution_count": null,
   "id": "d8438a90",
   "metadata": {},
   "outputs": [],
   "source": [
    "Main_Data = Main_Data.sample(frac=1).reset_index(drop=True)"
   ]
  },
  {
   "cell_type": "code",
   "execution_count": null,
   "id": "1da2c814",
   "metadata": {},
   "outputs": [],
   "source": [
    "print(Main_Data.head())"
   ]
  },
  {
   "cell_type": "code",
   "execution_count": null,
   "id": "223e7c46",
   "metadata": {},
   "outputs": [],
   "source": [
    "print(Main_Data[\"CATEGORY\"].value_counts())"
   ]
  },
  {
   "cell_type": "code",
   "execution_count": null,
   "id": "e6276ee4",
   "metadata": {},
   "outputs": [],
   "source": [
    "Fresh_Meat = Main_Data[Main_Data[\"CATEGORY\"] == \"Fresh\"]\n",
    "Spoiled_Meat = Main_Data[Main_Data[\"CATEGORY\"] == \"Spoiled\"]"
   ]
  },
  {
   "cell_type": "code",
   "execution_count": null,
   "id": "d3192cb3",
   "metadata": {},
   "outputs": [],
   "source": [
    "print(Fresh_Meat.head())"
   ]
  },
  {
   "cell_type": "code",
   "execution_count": null,
   "id": "3a15651f",
   "metadata": {},
   "outputs": [],
   "source": [
    "print(Spoiled_Meat.head())"
   ]
  },
  {
   "cell_type": "code",
   "execution_count": null,
   "id": "0c58481a",
   "metadata": {},
   "outputs": [],
   "source": [
    "figure = plt.figure(figsize=(8, 8))\n",
    "plt.imshow(plt.imread(Main_Data[\"JPG\"][1]))\n",
    "plt.show()"
   ]
  },
  {
   "cell_type": "code",
   "execution_count": null,
   "id": "5e2c2822",
   "metadata": {},
   "outputs": [],
   "source": [
    "#figure = plt.figure(figsize=(8,8))\n",
    "#plt.imshow(plt.imread(Main_Data[\"JPG\"][2]))\n",
    "#plt.show()"
   ]
  },
  {
   "cell_type": "code",
   "execution_count": null,
   "id": "3c764c21",
   "metadata": {},
   "outputs": [],
   "source": [
    "#figure = plt.figure(figsize=(8,8))\n",
    "#plt.imshow(plt.imread(Fresh_Meat[\"JPG\"][10]))\n",
    "#plt.show()"
   ]
  },
  {
   "cell_type": "code",
   "execution_count": null,
   "id": "a54e79df",
   "metadata": {},
   "outputs": [],
   "source": [
    "#figure = plt.figure(figsize=(8,8))\n",
    "#plt.imshow(plt.imread(Spoiled_Meat[\"JPG\"][1]))\n",
    "#plt.show()"
   ]
  },
  {
   "cell_type": "code",
   "execution_count": null,
   "id": "ca4f06ff",
   "metadata": {},
   "outputs": [],
   "source": [
    "fig, axes = plt.subplots(nrows=5, ncols=5, figsize=(8, 8), subplot_kw={'xticks': [], 'yticks': []})\n",
    "\n",
    "for i, ax in enumerate(axes.flat):\n",
    "    ax.imshow(plt.imread(Main_Data[\"JPG\"][i]))\n",
    "    ax.set_title(Main_Data[\"CATEGORY\"][i])\n",
    "plt.tight_layout()\n",
    "plt.show()"
   ]
  },
  {
   "cell_type": "code",
   "execution_count": null,
   "id": "fa996022",
   "metadata": {},
   "outputs": [],
   "source": [
    "Train_Data, Test_Data = train_test_split(Main_Data, train_size=0.8, shuffle=True, random_state=42)"
   ]
  },
  {
   "cell_type": "code",
   "execution_count": null,
   "id": "37be5cf7",
   "metadata": {},
   "outputs": [],
   "source": [
    "print(Train_Data.shape)"
   ]
  },
  {
   "cell_type": "code",
   "execution_count": null,
   "id": "fdc595f4",
   "metadata": {},
   "outputs": [],
   "source": [
    "Data_Generator = ImageDataGenerator(rescale=1./255,validation_split=0.2)"
   ]
  },
  {
   "cell_type": "code",
   "execution_count": null,
   "id": "1733a88c",
   "metadata": {},
   "outputs": [],
   "source": [
    "Train_Gen = Data_Generator.flow_from_dataframe(dataframe=Train_Data,\n",
    "                                               x_col=\"JPG\",\n",
    "                                               y_col=\"CATEGORY\",\n",
    "                                               shuffle=True,seed=42,\n",
    "                                               color_mode=\"rgb\",\n",
    "                                               class_mode=\"categorical\",\n",
    "                                               batch_size=32,\n",
    "                                               subset=\"training\")"
   ]
  },
  {
   "cell_type": "code",
   "execution_count": null,
   "id": "a26b8b86",
   "metadata": {},
   "outputs": [],
   "source": [
    "print(Train_Gen.classes[0:20])"
   ]
  },
  {
   "cell_type": "code",
   "execution_count": null,
   "id": "17b2332c",
   "metadata": {},
   "outputs": [],
   "source": [
    "print(Train_Gen.split)"
   ]
  },
  {
   "cell_type": "code",
   "execution_count": null,
   "id": "e042e1e9",
   "metadata": {},
   "outputs": [],
   "source": [
    "Test_Gen = Data_Generator.flow_from_dataframe(dataframe=Test_Data,\n",
    "                                               x_col=\"JPG\",\n",
    "                                               y_col=\"CATEGORY\",\n",
    "                                               shuffle=False,seed=42,\n",
    "                                               color_mode=\"rgb\",\n",
    "                                               class_mode=\"categorical\",\n",
    "                                               batch_size=32)"
   ]
  },
  {
   "cell_type": "code",
   "execution_count": null,
   "id": "8a5d3074",
   "metadata": {},
   "outputs": [],
   "source": [
    "print(Test_Gen.classes[0:20])"
   ]
  },
  {
   "cell_type": "code",
   "execution_count": null,
   "id": "2cef7833",
   "metadata": {},
   "outputs": [],
   "source": [
    "print(Test_Gen.split)"
   ]
  },
  {
   "cell_type": "code",
   "execution_count": null,
   "id": "c38257d5",
   "metadata": {},
   "outputs": [],
   "source": [
    "Validation_Gen = Data_Generator.flow_from_dataframe(dataframe=Train_Data,\n",
    "                                               x_col=\"JPG\",\n",
    "                                               y_col=\"CATEGORY\",\n",
    "                                               shuffle=True,seed=42,\n",
    "                                               color_mode=\"rgb\",\n",
    "                                               class_mode=\"categorical\",\n",
    "                                               batch_size=32,\n",
    "                                               subset=\"validation\")"
   ]
  },
  {
   "cell_type": "code",
   "execution_count": null,
   "id": "35bc944f",
   "metadata": {},
   "outputs": [],
   "source": [
    "print(Validation_Gen.classes[0:20])"
   ]
  },
  {
   "cell_type": "code",
   "execution_count": null,
   "id": "da11f706",
   "metadata": {},
   "outputs": [],
   "source": [
    "print(Validation_Gen.split)"
   ]
  },
  {
   "cell_type": "code",
   "execution_count": null,
   "id": "fb0acee7",
   "metadata": {},
   "outputs": [],
   "source": [
    "model = tf.keras.models.Sequential([\n",
    "  \n",
    "  tf.keras.layers.experimental.preprocessing.Rescaling(1./255),\n",
    "  tf.keras.layers.Flatten(input_shape=(113,)),\n",
    "  \n",
    "  tf.keras.layers.Dense(128, activation='relu'),\n",
    "  tf.keras.layers.Dropout(0.2),\n",
    "    tf.keras.layers.Dense(128, activation='relu'),\n",
    "  tf.keras.layers.Dropout(0.2),\n",
    "  \n",
    "  tf.keras.layers.Dense(2,activation=\"softmax\")\n",
    "])"
   ]
  },
  {
   "cell_type": "code",
   "execution_count": null,
   "id": "741c7e65",
   "metadata": {},
   "outputs": [],
   "source": [
    "model.compile(optimizer=\"rmsprop\",\n",
    "             loss=\"binary_crossentropy\",\n",
    "             metrics=[\"accuracy\"])"
   ]
  },
  {
   "cell_type": "code",
   "execution_count": null,
   "id": "7b5ed6dd",
   "metadata": {},
   "outputs": [],
   "source": [
    "Call_Back = tf.keras.callbacks.EarlyStopping(monitor=\"loss\",patience=2)"
   ]
  },
  {
   "cell_type": "code",
   "execution_count": null,
   "id": "433fc366",
   "metadata": {},
   "outputs": [],
   "source": [
    "ANN_Model = model.fit(Train_Gen,\n",
    "                     validation_data=Validation_Gen,\n",
    "                     epochs=10,batch_size=5,\n",
    "                     callbacks=Call_Back)"
   ]
  },
  {
   "cell_type": "code",
   "execution_count": null,
   "id": "ba663c93",
   "metadata": {},
   "outputs": [],
   "source": [
    "Model_Results = model.evaluate(Test_Gen,verbose=False)\n",
    "print(\"LOSS:  \" + \"%.4f\" % Model_Results[0])\n",
    "print(\"ACCURACY:  \" + \"%.2f\" % Model_Results[1])\n"
   ]
  },
  {
   "cell_type": "code",
   "execution_count": null,
   "id": "938a2233",
   "metadata": {},
   "outputs": [],
   "source": [
    "print(model.summary())"
   ]
  },
  {
   "cell_type": "code",
   "execution_count": null,
   "id": "36dad1aa",
   "metadata": {},
   "outputs": [],
   "source": [
    "plt.plot(ANN_Model.history[\"accuracy\"])\n",
    "plt.plot(ANN_Model.history[\"val_accuracy\"])\n",
    "plt.ylabel(\"ACCURACY\")\n",
    "plt.legend()\n",
    "plt.show()"
   ]
  },
  {
   "cell_type": "code",
   "execution_count": null,
   "id": "08c06dc9",
   "metadata": {},
   "outputs": [],
   "source": [
    "HistoryDict = ANN_Model.history\n",
    "\n",
    "val_losses = HistoryDict[\"val_loss\"]\n",
    "val_acc = HistoryDict[\"val_accuracy\"]\n",
    "acc = HistoryDict[\"accuracy\"]\n",
    "losses = HistoryDict[\"loss\"]\n",
    "epochs = range(1,len(val_losses)+1)"
   ]
  },
  {
   "cell_type": "code",
   "execution_count": null,
   "id": "01f23c46",
   "metadata": {},
   "outputs": [],
   "source": [
    "plt.plot(epochs,val_losses,\"k-\",label=\"LOSS\")\n",
    "plt.plot(epochs,val_acc,\"r\",label=\"ACCURACY\")\n",
    "plt.title(\"LOSS & ACCURACY\")\n",
    "plt.xlabel(\"EPOCH\")\n",
    "plt.ylabel(\"Loss & Acc\")\n",
    "plt.legend()\n",
    "plt.show()"
   ]
  },
  {
   "cell_type": "code",
   "execution_count": null,
   "id": "9aed9b65",
   "metadata": {},
   "outputs": [],
   "source": [
    "plt.plot(epochs,acc,\"k-\",label=\"ACCURACY\")\n",
    "plt.plot(epochs,val_acc,\"r\",label=\"ACCURACY VAL\")\n",
    "plt.title(\"ACCURACY & ACCURACY VAL\")\n",
    "plt.xlabel(\"EPOCH\")\n",
    "plt.ylabel(\"ACCURACY & ACCURACY VAL\")\n",
    "plt.legend()\n",
    "plt.show()"
   ]
  },
  {
   "cell_type": "code",
   "execution_count": null,
   "id": "9f8ce281",
   "metadata": {},
   "outputs": [],
   "source": [
    "plt.plot(epochs, losses, \"k-\", label=\"LOSS\")\n",
    "plt.plot(epochs, val_losses, \"r\", label=\"LOSS VAL\")\n",
    "plt.title(\"LOSS & LOSS VAL\")\n",
    "plt.xlabel(\"EPOCH\")\n",
    "plt.ylabel(\"LOSS & LOSS VAL\")\n",
    "plt.legend()\n",
    "plt.show()"
   ]
  },
  {
   "cell_type": "code",
   "execution_count": null,
   "id": "2e1def1e",
   "metadata": {},
   "outputs": [],
   "source": [
    "Dict_Summary = pd.DataFrame(ANN_Model.history)\n",
    "Dict_Summary.plot()"
   ]
  },
  {
   "cell_type": "code",
   "execution_count": null,
   "id": "0fae7284",
   "metadata": {},
   "outputs": [],
   "source": [
    "Model_Predict = model.predict(Test_Gen)"
   ]
  },
  {
   "cell_type": "code",
   "execution_count": null,
   "id": "c34d23a2",
   "metadata": {},
   "outputs": [],
   "source": [
    "Model_Predict = np.argmax(Model_Predict,axis=1)"
   ]
  },
  {
   "cell_type": "code",
   "execution_count": null,
   "id": "da003e8c",
   "metadata": {},
   "outputs": [],
   "source": [
    "Predict_Label = (Test_Gen.class_indices)\n",
    "Predict_Label = dict((v, k) for k, v in Predict_Label.items())"
   ]
  },
  {
   "cell_type": "code",
   "execution_count": null,
   "id": "49b21625",
   "metadata": {},
   "outputs": [],
   "source": [
    "Model_Predict = [Predict_Label[k] for k in Model_Predict]"
   ]
  },
  {
   "cell_type": "code",
   "execution_count": null,
   "id": "6e84ebb4",
   "metadata": {},
   "outputs": [],
   "source": [
    "print(Model_Predict[:10])"
   ]
  },
  {
   "cell_type": "code",
   "execution_count": null,
   "id": "e218b1ec",
   "metadata": {},
   "outputs": [],
   "source": [
    "Test_Results = list(Test_Data[\"CATEGORY\"])"
   ]
  },
  {
   "cell_type": "code",
   "execution_count": null,
   "id": "9426bfc6",
   "metadata": {},
   "outputs": [],
   "source": [
    "Class_Report = classification_report(Test_Results,Model_Predict)\n",
    "print(Class_Report)"
   ]
  },
  {
   "cell_type": "code",
   "execution_count": null,
   "id": "eea87e4c",
   "metadata": {},
   "outputs": [],
   "source": [
    "Conf_Report = confusion_matrix(Test_Results,Model_Predict, normalize=\"true\")\n",
    "figure = plt.figure(figsize=(10,10))\n",
    "sns.heatmap(Conf_Report,vmax=1,center=0,vmin=-1,annot=True)\n",
    "plt.show()"
   ]
  },
  {
   "cell_type": "code",
   "execution_count": null,
   "id": "6f56abf2",
   "metadata": {},
   "outputs": [],
   "source": [
    "fig, axes = plt.subplots(nrows=8,\n",
    "                         ncols=8,\n",
    "                         figsize=(15, 15),\n",
    "                        subplot_kw={'xticks': [], 'yticks': []})\n",
    "\n",
    "for i, ax in enumerate(axes.flat):\n",
    "    ax.imshow(plt.imread(Test_Data[\"JPG\"].iloc[i]))\n",
    "    ax.set_title(f\"TEST:{Test_Data.CATEGORY.iloc[i]}\\n PREDICTION:{Model_Predict[i]}\")\n",
    "plt.tight_layout()\n",
    "plt.show()"
   ]
  },
  {
   "cell_type": "code",
   "execution_count": null,
   "id": "4dcd9f96",
   "metadata": {},
   "outputs": [],
   "source": [
    "get_ipython().system(' pip install xgboost')"
   ]
  },
  {
   "cell_type": "code",
   "execution_count": null,
   "id": "3de76215",
   "metadata": {},
   "outputs": [],
   "source": [
    "get_ipython().system(' pip3 install xgboost')"
   ]
  },
  {
   "cell_type": "code",
   "execution_count": null,
   "id": "5adee2a6",
   "metadata": {},
   "outputs": [],
   "source": [
    "get_ipython().system(' conda install -c conda-forge xgboost')"
   ]
  },
  {
   "cell_type": "code",
   "execution_count": null,
   "id": "f6bdaec6",
   "metadata": {},
   "outputs": [],
   "source": [
    "import xgboost"
   ]
  },
  {
   "cell_type": "code",
   "execution_count": null,
   "id": "62110b77",
   "metadata": {},
   "outputs": [],
   "source": []
  },
  {
   "cell_type": "code",
   "execution_count": null,
   "id": "f3f74aec",
   "metadata": {},
   "outputs": [],
   "source": []
  }
 ],
 "metadata": {
  "kernelspec": {
   "display_name": "Python 3 (ipykernel)",
   "language": "python",
   "name": "python3"
  },
  "language_info": {
   "codemirror_mode": {
    "name": "ipython",
    "version": 3
   },
   "file_extension": ".py",
   "mimetype": "text/x-python",
   "name": "python",
   "nbconvert_exporter": "python",
   "pygments_lexer": "ipython3",
   "version": "3.9.12"
  }
 },
 "nbformat": 4,
 "nbformat_minor": 5
}
